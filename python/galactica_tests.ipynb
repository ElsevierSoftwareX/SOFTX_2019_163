{
 "cells": [
  {
   "cell_type": "code",
   "execution_count": 63,
   "metadata": {
    "collapsed": true
   },
   "outputs": [],
   "source": [
    "import tomography\n",
    "\n",
    "%matplotlib inline\n",
    "\n",
    "import matplotlib\n",
    "import matplotlib.pyplot as plt\n",
    "\n",
    "import numpy as np"
   ]
  },
  {
   "cell_type": "code",
   "execution_count": 64,
   "metadata": {
    "collapsed": false
   },
   "outputs": [
    {
     "data": {
      "text/plain": [
       "<tomography.image at 0x7f36c0e5b810>"
      ]
     },
     "execution_count": 64,
     "metadata": {},
     "output_type": "execute_result"
    }
   ],
   "source": [
    "tomography.image(2,2)"
   ]
  },
  {
   "cell_type": "code",
   "execution_count": 65,
   "metadata": {
    "collapsed": true
   },
   "outputs": [],
   "source": [
    "def plot(image):\n",
    "    fig = plt.figure(figsize=(5, 5))\n",
    "    ax = fig.add_axes([0.0, 0.0, 1.0, 1.0])\n",
    "    data = image.data()\n",
    "    ax.imshow(np.split(np.array(data), len(data) // k), interpolation=\"none\", cmap='Greys', extent=[0,k,0,k], aspect='auto')"
   ]
  },
  {
   "cell_type": "code",
   "execution_count": 66,
   "metadata": {
    "collapsed": false
   },
   "outputs": [
    {
     "data": {
      "image/png": "[encoded data removed]",
      "text/plain": [
       "<matplotlib.figure.Figure at 0x7f36c10f6400>"
      ]
     },
     "metadata": {},
     "output_type": "display_data"
    }
   ],
   "source": [
    "k = 1024\n",
    "phantom = tomography.mod_sl_ph(k, k)\n",
    "plot(phantom)"
   ]
  },
  {
   "cell_type": "code",
   "execution_count": 67,
   "metadata": {
    "collapsed": false
   },
   "outputs": [
    {
     "data": {
      "text/plain": [
       "3"
      ]
     },
     "execution_count": 67,
     "metadata": {},
     "output_type": "execute_result"
    }
   ],
   "source": [
    "tomography.add(1,2)"
   ]
  },
  {
   "cell_type": "code",
   "execution_count": 68,
   "metadata": {
    "collapsed": false
   },
   "outputs": [
    {
     "name": "stdout",
     "output_type": "stream",
     "text": [
      "Help on module tomography:\n",
      "\n",
      "NAME\n",
      "    tomography - bindings for galactica\n",
      "\n",
      "CLASSES\n",
      "    builtins.object\n",
      "        image\n",
      "    \n",
      "    class image(builtins.object)\n",
      "     |  Methods defined here:\n",
      "     |  \n",
      "     |  __init__(...) from builtins.PyCapsule\n",
      "     |      __init__(tomography.image, int, int) -> NoneType\n",
      "     |  \n",
      "     |  __new__(*args, **kwargs) from builtins.type\n",
      "     |      Create and return a new object.  See help(type) for accurate signature.\n",
      "     |  \n",
      "     |  data(...) from builtins.PyCapsule\n",
      "     |      data(tomography.image) -> list<float>\n",
      "     |      \n",
      "     |      return the underlying image data\n",
      "\n",
      "FUNCTIONS\n",
      "    add(...) method of builtins.PyCapsule instance\n",
      "        add(int, int) -> int\n",
      "        \n",
      "        A function which adds two numbers\n",
      "    \n",
      "    mod_sl_ph(...) method of builtins.PyCapsule instance\n",
      "        mod_sl_ph(int, int) -> tomography.image\n",
      "        \n",
      "        obtain phantom\n",
      "\n",
      "FILE\n",
      "    /ufs/buurlage/code/galactica/python/tomography.cpython-34m.so\n",
      "\n",
      "\n"
     ]
    }
   ],
   "source": [
    "help(tomography)"
   ]
  },
  {
   "cell_type": "code",
   "execution_count": null,
   "metadata": {
    "collapsed": true
   },
   "outputs": [],
   "source": []
  }
 ],
 "metadata": {
  "kernelspec": {
   "display_name": "Python 3",
   "language": "python",
   "name": "python3"
  },
  "language_info": {
   "codemirror_mode": {
    "name": "ipython",
    "version": 3
   },
   "file_extension": ".py",
   "mimetype": "text/x-python",
   "name": "python",
   "nbconvert_exporter": "python",
   "pygments_lexer": "ipython3",
   "version": "3.4.2"
  }
 },
 "nbformat": 4,
 "nbformat_minor": 0
}
